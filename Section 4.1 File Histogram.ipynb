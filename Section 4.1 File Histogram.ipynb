{
 "cells": [
  {
   "cell_type": "code",
   "execution_count": null,
   "metadata": {},
   "outputs": [],
   "source": [
    "import matplotlib.pyplot as plt\n",
    "import sys\n",
    "import base64\n",
    "\n",
    "if (len(sys.argv))<2:\n",
    "    print (\"Usage file_histogram.py <source_file> [1|0]\")\n",
    "\n",
    "print(\"Reading \" + sys.argv[1] + \"... \")\n",
    "s_file=open(sys.argv[1])\n",
    "\n",
    "if sys.argv[2] == \"1\":\n",
    "    text=base64.b64decode(s_file.read())\n",
    "else:\n",
    "    text=s_file.read()\n",
    "\n",
    "chars=[0]*256\n",
    "for line in text:\n",
    "    for c in line:\n",
    "        chars[ord(c)] = chars[ord(c)]+1\n",
    "\n",
    "s_file.close()\n",
    "p=plt.plot(chars)\n",
    "plt.show()"
   ]
  }
 ],
 "metadata": {
  "kernelspec": {
   "display_name": "Python 3",
   "language": "python",
   "name": "python3"
  },
  "language_info": {
   "codemirror_mode": {
    "name": "ipython",
    "version": 3
   },
   "file_extension": ".py",
   "mimetype": "text/x-python",
   "name": "python",
   "nbconvert_exporter": "python",
   "pygments_lexer": "ipython3",
   "version": "3.8.5"
  }
 },
 "nbformat": 4,
 "nbformat_minor": 4
}
