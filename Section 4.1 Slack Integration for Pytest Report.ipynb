{
 "cells": [
  {
   "cell_type": "markdown",
   "metadata": {},
   "source": [
    "# Script for Integration of Slack with Pytest Framework ( Dynamic Report Generation on Slack App )"
   ]
  },
  {
   "cell_type": "code",
   "execution_count": null,
   "metadata": {},
   "outputs": [],
   "source": [
    "#Contents of post_test_reports_to_slack.py \n",
    "import json,os,requests\n",
    " \n",
    "def post_reports_to_slack():\n",
    " \n",
    "        url= \"Put your Slack incoming webhook url here\"  \n",
    " \n",
    "        #To generate report file add \"> pytest_report.log\" at end of py.test command for e.g. py.test -v > pytest_report.log\n",
    "        test_report_file = os.path.abspath(os.path.join(os.path.dirname(__file__),'pytest_report.log')) #Add report file name and address here\n",
    " \n",
    "        # Open report file and read data\n",
    "        with open(test_report_file, \"r\") as in_file:\n",
    "                testdata = \"\"\n",
    "                for line in in_file:\n",
    "                        testdata = testdata + '\\n' + line\n",
    " \n",
    "        # Set Slack Pass Fail bar indicator color according to test results   \n",
    "        if 'FAILED' in testdata:\n",
    "            bar_color = \"#ff0000\"\n",
    "        else:\n",
    "            bar_color = \"#36a64f\"\n",
    " \n",
    "        # Arrange your data in pre-defined format. Test your data format here: https://api.slack.com/docs/messages/builder?  \n",
    "        data = {\"attachments\":[\n",
    "                            {\"color\": bar_color,\n",
    "                            \"title\": \"Test Report\",\n",
    "                            \"text\": testdata}\n",
    "                            ]}\n",
    "        json_params_encoded = json.dumps(data)\n",
    "        slack_response = requests.post(url=url,data=json_params_encoded,headers={\"Content-type\":\"application/json\"})\n",
    "        if slack_response.text == 'ok':\n",
    "                print '\\n Successfully posted pytest report on Slack channel'\n",
    "        else:\n",
    "                print '\\n Something went wrong. Unable to post pytest report on Slack channel. Slack Response:', slack_response \n",
    " \n",
    "#---USAGE EXAMPLES\n",
    "if __name__=='__main__':\n",
    "        post_reports_to_slack()"
   ]
  }
 ],
 "metadata": {
  "kernelspec": {
   "display_name": "Python 3",
   "language": "python",
   "name": "python3"
  },
  "language_info": {
   "codemirror_mode": {
    "name": "ipython",
    "version": 3
   },
   "file_extension": ".py",
   "mimetype": "text/x-python",
   "name": "python",
   "nbconvert_exporter": "python",
   "pygments_lexer": "ipython3",
   "version": "3.8.5"
  }
 },
 "nbformat": 4,
 "nbformat_minor": 4
}
