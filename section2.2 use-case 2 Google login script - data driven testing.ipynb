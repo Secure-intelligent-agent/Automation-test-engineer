{
 "cells": [
  {
   "cell_type": "markdown",
   "metadata": {},
   "source": [
    "# How to Use ?\n",
    "### same as Previous Login script\n"
   ]
  },
  {
   "cell_type": "code",
   "execution_count": null,
   "metadata": {},
   "outputs": [],
   "source": [
    "import pytest\n",
    "import pyttsx3\n",
    "import time\n",
    "import json\n",
    "from tqdm import tqdm\n",
    "from colorama import Fore\n",
    "import pandas as pd\n",
    "from selenium import webdriver\n",
    "from selenium.webdriver.common.by import By\n",
    "from selenium.webdriver.common.action_chains import ActionChains\n",
    "from selenium.webdriver.support import expected_conditions\n",
    "from selenium.webdriver.support.wait import WebDriverWait\n",
    "from selenium.webdriver.common.keys import Keys\n",
    "#one time initialization\n",
    "\n",
    "\n",
    "class TestLogin():\n",
    "  count = 0\n",
    "  status = []\n",
    "  df = pd.read_excel('google_test_case.xlsx')\n",
    "  username = df['Username'].values.tolist()\n",
    "  password = df['Password'].values.tolist()\n",
    "  def teardown_method(self, method):\n",
    "    self.driver.quit()   \n",
    "  def test_googlelogin(self):\n",
    "    for i in tqdm(range(TestLogin.df.shape[0])):\n",
    "      bar_format=\"{l_bar}%s{bar}%s{r_bar}\" % (Fore.GREEN, Fore.RESET)\n",
    "      time.sleep(0.5)\n",
    "      self.count = 0\n",
    "      self.path = r'D:/chromedriver_latest.exe'\n",
    "      self.driver = webdriver.Chrome(executable_path = self.path)\n",
    "      self.vars = {}\n",
    "      self.driver.get(\"https:/jhbhjhj.com/\")\n",
    "      self.driver.set_window_size(1382, 744)\n",
    "      time.sleep(2)\n",
    "      self.driver.find_element(By.LINK_TEXT, \"Login\").click()\n",
    "      self.driver.find_element(By.CSS_SELECTOR, \".fa-google\").click()\n",
    "      self.driver.find_element(By.NAME, 'identifier').click()\n",
    "      self.driver.find_element(By.XPATH, '//*[@id=\"identifierId\"]').send_keys(TestLogin.username[i])\n",
    "      time.sleep(0.5)\n",
    "      self.driver.find_element(By.XPATH, '//*[@id=\"identifierNext\"]/span/span').click()\n",
    "      time.sleep(5)\n",
    "      self.driver.find_element(By.XPATH, '//*[@id=\"password\"]/div[1]/div/div[1]/input').send_keys(TestLogin.password[i])\n",
    "      time.sleep(0.1)\n",
    "      self.driver.find_element(By.XPATH, '//*[@id=\"passwordNext\"]/span/span').click()\n",
    "      time.sleep(5)\n",
    "      self.driver.get('https://knnjj.com')\n",
    "      time.sleep(3)\n",
    "      if self.driver.current_url == 'https://kjmnkm.com':\n",
    "        time.sleep(2)\n",
    "        print('PASS')\n",
    "        TestLogin.count = TestLogin.count + 1\n",
    "        TestLogin.status.append('Pass')\n",
    "      else:\n",
    "          TestLogin.status.append('Fail')\n",
    "          time.sleep(1)\n",
    "          self.driver.quit()\n",
    "    TestLogin.df['Status'] = TestLogin.status\n",
    "    TestLogin.df.to_excel('final.xlsx', index = False)\n",
    "    print(\"\\nTotal test cases passed  \" + str(TestLogin.count) + \" out of  \" + str(TestLogin.df.shape[0]))\n",
    "        \n",
    "  \n"
   ]
  }
 ],
 "metadata": {
  "kernelspec": {
   "display_name": "Python 3",
   "language": "python",
   "name": "python3"
  },
  "language_info": {
   "codemirror_mode": {
    "name": "ipython",
    "version": 3
   },
   "file_extension": ".py",
   "mimetype": "text/x-python",
   "name": "python",
   "nbconvert_exporter": "python",
   "pygments_lexer": "ipython3",
   "version": "3.8.5"
  }
 },
 "nbformat": 4,
 "nbformat_minor": 4
}
