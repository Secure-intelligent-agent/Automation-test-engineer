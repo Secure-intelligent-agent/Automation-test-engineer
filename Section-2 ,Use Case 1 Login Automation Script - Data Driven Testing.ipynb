{
 "cells": [
  {
   "cell_type": "markdown",
   "metadata": {},
   "source": [
    "# Login Automation Script - Data driven testing\n",
    "\n",
    "### How it Works ?\n",
    "### Our Login credentials are stored in Excel File, So we need to Read the File First & iterating the script again and again .\n",
    "\n",
    "##### Read the file using Python lib named as 'Pandas' \n",
    "!pip install pandas\n"
   ]
  },
  {
   "cell_type": "code",
   "execution_count": null,
   "metadata": {},
   "outputs": [],
   "source": [
    "# Automation testing framework\n",
    "!pip install pytest  \n",
    "# For Providing Wait or sleep Interval in the script\n",
    "!pip install time\n",
    "# For selenium\n",
    "!pip install selenium\n",
    "# For reading the excel file\n",
    "!pip install pandas"
   ]
  },
  {
   "cell_type": "code",
   "execution_count": null,
   "metadata": {},
   "outputs": [],
   "source": [
    "import pytest\n",
    "import time\n",
    "import json\n",
    "from tqdm import tqdm\n",
    "from colorama import Fore\n",
    "import pandas as pd\n",
    "from selenium import webdriver\n",
    "from selenium.webdriver.common.by import By\n",
    "from selenium.webdriver.common.action_chains import ActionChains\n",
    "from selenium.webdriver.support import expected_conditions\n",
    "from selenium.webdriver.support.wait import WebDriverWait\n",
    "from selenium.webdriver.common.keys import Keys\n",
    "\n",
    "class TestLogin():\n",
    "\tcount = 0\n",
    "\tstatus = []\n",
    "\tdf = pd.read_excel('test_case.xlsx')\n",
    "#     parameters in excel or .csv file\n",
    "\tusernames = df['Username'].values.tolist()\n",
    "\tpassword = df['Password'].values.tolist()\n",
    "    \n",
    "\tdef teardown_method(self, method):\n",
    "\t\tself.driver.quit()\n",
    "        \n",
    "        \n",
    "\tdef test_login(self):\n",
    "\t\tfor i in tqdm(range(TestLogin.df.shape[0])):\n",
    "\t\t\tbar_format=\"{l_bar}%s{bar}%s{r_bar}\" % (Fore.GREEN, Fore.RESET)\n",
    "\t\t\ttime.sleep(0.5)\n",
    "\t\t\tself.count = 0\n",
    "            \n",
    "#         Importing WEB DRIVER AS Discussed previously to Get access to Web-browsers (Functions Like find_element etc)\n",
    "\t\t\tself.path = r'D:/chromedriver_latest.exe'\n",
    "\t\t\tself.driver = webdriver.Chrome(executable_path = self.path)\n",
    "\t\t\tself.vars = {}\n",
    "            # Provide your Website or app link here\n",
    "\t\t\tself.driver.get(\" https://any-website.com\")\n",
    "\t\t\tself.driver.set_window_size(1382, 744)\n",
    "\t\t\telement = self.driver.find_element(By.LINK_TEXT, \"Login\")                                \n",
    "\t\t\tactions = ActionChains(self.driver)\n",
    "\t\t\tactions.move_to_element(element).perform()\n",
    "\t\t\tself.driver.find_element(By.LINK_TEXT, \"Login\").click()\n",
    "\t\t\tself.driver.find_element(By.CSS_SELECTOR, \".form-group:nth-child(1) > .form-control\").click()\n",
    "            # .send_keys here writes on to the Web-browser Session , the Credentials provided in Excel or.csv file\n",
    "\t\t\tself.driver.find_element(By.XPATH, \"//input[@type=\\'email\\']\").send_keys(TestLogin.usernames[i])\n",
    "\t\t\tself.driver.find_element(By.CSS_SELECTOR, \".ng-untouched\").click()\n",
    "            # Writing the password into the web-browser session , same as above.\n",
    "\t\t\tself.driver.find_element(By.CSS_SELECTOR, \".ng-untouched\").send_keys(TestLogin.password[i])\n",
    "\t\t\tself.driver.find_element(By.CSS_SELECTOR, \".btn-block\").click()\n",
    "\t\t\ttime.sleep(1)\n",
    "\t\t\tif self.driver.current_url == 'https://somelink.com ' or self.driver.current_url == 'https://somelink.com':\n",
    "\t\t\t\ttime.sleep(3)\n",
    "\t\t\t\tprint('PASS')\n",
    "\t\t\t\tTestLogin.count = TestLogin.count + 1\n",
    "\t\t\t\tTestLogin.status.append('Pass')\n",
    "\t\t\telse:\n",
    "\t\t\t\tTestLogin.status.append('Fail')\n",
    "\t\t\ttime.sleep(1)\n",
    "\t\t\tself.driver.quit()\n",
    "\t\tTestLogin.df['Status'] = TestLogin.status\n",
    "\t\tTestLogin.df.to_excel('final.xlsx', index = False)\n",
    "\t\tprint(\"\\nTotal test cases passed \" + str(TestLogin.count) + ' out of ' + str(TestLogin.df.shape[0]))\n"
   ]
  }
 ],
 "metadata": {
  "kernelspec": {
   "display_name": "Python 3",
   "language": "python",
   "name": "python3"
  },
  "language_info": {
   "codemirror_mode": {
    "name": "ipython",
    "version": 3
   },
   "file_extension": ".py",
   "mimetype": "text/x-python",
   "name": "python",
   "nbconvert_exporter": "python",
   "pygments_lexer": "ipython3",
   "version": "3.8.5"
  }
 },
 "nbformat": 4,
 "nbformat_minor": 4
}
