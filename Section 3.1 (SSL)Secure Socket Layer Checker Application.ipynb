{
 "cells": [
  {
   "cell_type": "markdown",
   "metadata": {},
   "source": [
    "# How to Build Secure Socket Layer Checker in Python ?"
   ]
  },
  {
   "cell_type": "raw",
   "metadata": {},
   "source": [
    "Secure Socket Layer is One of the Most Essential aspect in terms of Security of your Website as well as for Web-apps.\n",
    "So, for that You can Build your own Python application which can Check\n",
    "Is your website or web-app Secured ..\n"
   ]
  },
  {
   "cell_type": "markdown",
   "metadata": {},
   "source": [
    "Install the Follow Dependencies\n",
    "!pip install OpenSSL\n",
    "!pip install datetime\n",
    "!pip install cryptography\n",
    "!pip install idna \n",
    "\n",
    "idna stands for : ( Internationalized Domain Names in Applications (IDNA))"
   ]
  },
  {
   "cell_type": "code",
   "execution_count": null,
   "metadata": {},
   "outputs": [],
   "source": [
    "from OpenSSL import SSL\n",
    "import datetime\n",
    "import time\n",
    "from cryptography import x509\n",
    "from cryptography.x509.oid import NameOID\n",
    "import idna\n",
    "\n",
    "from socket import socket\n",
    "from collections import namedtuple"
   ]
  },
  {
   "cell_type": "markdown",
   "metadata": {},
   "source": [
    "# You need to Provide your URL for which you are checking SSL"
   ]
  },
  {
   "cell_type": "code",
   "execution_count": null,
   "metadata": {},
   "outputs": [],
   "source": [
    "HostInfo = namedtuple(field_names='cert hostname peername', typename='HostInfo')\n",
    "\n",
    "HOSTS = [\n",
    "     ('mysite.com', 443),\n",
    "     ('yoursitename.org', 443),\n",
    "    ('xyz.co.in', 443),\n",
    "    # ('', 443),\n",
    "    #('faß.de', 443),\n",
    "    #('favourite.com', 443),"
   ]
  },
  {
   "cell_type": "markdown",
   "metadata": {},
   "source": [
    "## Here it  verify  CA(certificate authority) trusted, servername/hostname/Server Name Indication\n",
    "##  service_identity.pyopenssl.verify_hostname(client_ssl, hostname) \n",
    "       "
   ]
  },
  {
   "cell_type": "code",
   "execution_count": null,
   "metadata": {},
   "outputs": [],
   "source": [
    "def verify_cert(cert, hostname):\n",
    "\n",
    "    cert.has_expired()\n",
    "    "
   ]
  },
  {
   "cell_type": "code",
   "execution_count": null,
   "metadata": {},
   "outputs": [],
   "source": [
    "def get_certificate(hostname, port):\n",
    "    \n",
    "    # first we need to ENCODE the HostName eg( mywebsite.com)that we have Provided.\n",
    "    \n",
    "    hostname_idna = idna.encode(hostname)\n",
    "    \n",
    "    # Then we need to Establish Connection with the server So we Use SOCKET\n",
    "    \n",
    "    sock = socket()\n",
    "    \n",
    "    #To connect with server in-build function named as Connect() in SOCKET \n",
    "    #here we Pass two parameter:\n",
    "    # Hostname - is the URl that you Provided above \n",
    "    # Port  - to show it on your Laptop/Desktop, We need to Define a port where it will get the information back to us.\n",
    "    \n",
    "    sock.connect((hostname, port))\n",
    "    #getpeername() function shall retrieve the peer address of the specified socket\n",
    "    # Return peername as weed it as Output.\n",
    "    peername = sock.getpeername()\n",
    "    ctx = SSL.Context(SSL.SSLv23_METHOD) # most compatible\n",
    "    ctx.check_hostname = False\n",
    "    ctx.verify_mode = SSL.VERIFY_NONE\n",
    "\n",
    "    sock_ssl = SSL.Connection(ctx, sock)\n",
    "    sock_ssl.set_connect_state()\n",
    "    \n",
    "    #here set_tlsext_host_name\n",
    "    # tlsext - is transport layer security extension THAT SENDS YOUR hostname_idna i.e\n",
    "    #(i.e your website URL which you have Encoded above.)\n",
    "    \n",
    "    sock_ssl.set_tlsext_host_name(hostname_idna)\n",
    "    sock_ssl.do_handshake()\n",
    "    cert = sock_ssl.get_peer_certificate()\n",
    "    # Return crypto_cert as we need it as output.\n",
    "    crypto_cert = cert.to_cryptography()\n",
    "    sock_ssl.close()\n",
    "    sock.close()\n",
    "\n",
    "    return HostInfo(cert=crypto_cert, peername=peername, hostname=hostname)"
   ]
  },
  {
   "cell_type": "markdown",
   "metadata": {},
   "source": [
    "# How identification is done on Web for any website or web-app ?\n",
    "\n",
    "##### SSL/TLS X.509 certificates are digital files that are used for Secure Sockets Layer (SSL) or Transport Layer Security (TLS). An SSL/TLS certificate is one of the most popular types of X.509 certificates, or a type of public key certificate which uses the X.509 standard. X.509 certificates contain a public key and the identity of a hostname, organization, or individual. \n",
    "\n",
    "## To Identify the hostname, organization, or individual - It requires X.509 certificates contain a public key and identifies the Same.\n",
    "\n",
    "##### To Get the DNS NAME we Need to Provide the  ( Crypto_cert  ) as its Input , We have made it Return in the Above Funtion as 'Cert'"
   ]
  },
  {
   "cell_type": "code",
   "execution_count": null,
   "metadata": {},
   "outputs": [],
   "source": [
    "def get_alt_names(cert):\n",
    "    try:\n",
    "        ext = cert.extensions.get_extension_for_class(x509.SubjectAlternativeName)\n",
    "        # here it will return the IP Address of Cert we provided \n",
    "        return ext.value.get_values_for_type(x509.DNSName)\n",
    "    except x509.ExtensionNotFound:\n",
    "        return None\n",
    "\n",
    "def get_common_name(cert):\n",
    "    try:\n",
    "        names = cert.subject.get_attributes_for_oid(NameOID.COMMON_NAME)\n",
    "        return names[0].value\n",
    "    except x509.ExtensionNotFound:\n",
    "        return None\n",
    "\n",
    "    # Here it returns the Issuer of the Certificate Lets Say  \"Let's Encrypt\"  https://letsencrypt.org/\n",
    "def get_issuer(cert):\n",
    "    try:\n",
    "        names = cert.issuer.get_attributes_for_oid(NameOID.COMMON_NAME)\n",
    "        return names[0].value\n",
    "    except x509.ExtensionNotFound:\n",
    "        return None"
   ]
  },
  {
   "cell_type": "markdown",
   "metadata": {},
   "source": [
    "Now All we need to do is to Print all the Stuff !!"
   ]
  },
  {
   "cell_type": "code",
   "execution_count": null,
   "metadata": {},
   "outputs": [],
   "source": [
    "def print_basic_info(hostinfo):\n",
    "    s = '''» {hostname} « … {peername}\n",
    "    \\tcommonName: {commonname}\n",
    "    \\tSAN: {SAN}\n",
    "    \\tissuer: {issuer}\n",
    "    \\tnotBefore: {notbefore}\n",
    "    \\tnotAfter:  {notafter}\n",
    "    '''.format(\n",
    "            hostname=hostinfo.hostname,\n",
    "            peername=hostinfo.peername,\n",
    "            commonname=get_common_name(hostinfo.cert),\n",
    "            SAN=get_alt_names(hostinfo.cert),\n",
    "            issuer=get_issuer(hostinfo.cert),\n",
    "            notbefore=hostinfo.cert.not_valid_before,\n",
    "            notafter=hostinfo.cert.not_valid_after\n",
    "    )\n",
    "    timenow = datetime.datetime.now()\n",
    "    if timenow <= hostinfo.cert.not_valid_after :\n",
    "        print(\"certfication is secured\")\n",
    "    else:\n",
    "        print(\"SSL certfication has expired\")\n",
    "\n",
    "    print(s)\n",
    "\n",
    "def check_it_out(hostname, port):\n",
    "    hostinfo = get_certificate(hostname, port)\n",
    "    print_basic_info(hostinfo)"
   ]
  },
  {
   "cell_type": "code",
   "execution_count": null,
   "metadata": {},
   "outputs": [],
   "source": [
    "\n",
    "def check_it_out(hostname, port):\n",
    "    hostinfo = get_certificate(hostname, port)\n",
    "    print_basic_info(hostinfo)\n",
    "\n",
    "\n",
    "import concurrent.futures\n",
    "if __name__ == '__main__':\n",
    "    with concurrent.futures.ThreadPoolExecutor(max_workers=4) as e:\n",
    "        for hostinfo in e.map(lambda x: get_certificate(x[0], x[1]), HOSTS):\n",
    "            print_basic_info(hostinfo)"
   ]
  },
  {
   "cell_type": "markdown",
   "metadata": {},
   "source": [
    "# Compelete Code"
   ]
  },
  {
   "cell_type": "code",
   "execution_count": null,
   "metadata": {},
   "outputs": [],
   "source": [
    "\n",
    "from OpenSSL import SSL\n",
    "import datetime\n",
    "import time\n",
    "from cryptography import x509\n",
    "from cryptography.x509.oid import NameOID\n",
    "import idna\n",
    "\n",
    "from socket import socket\n",
    "from collections import namedtuple\n",
    "\n",
    "HostInfo = namedtuple(field_names='cert hostname peername', typename='HostInfo')\n",
    "\n",
    "HOSTS = [\n",
    "# Enter your Website URL '' Below.\n",
    "     ('', 443),\n",
    "     ('', 443),\n",
    "    ('mywebsite.com', 443),\n",
    "    # ('', 443),\n",
    "    #('faß.de', 443),\n",
    "    #('самодеј.мкд', 443),\n",
    "]\n",
    "\n",
    "def verify_cert(cert, hostname):\n",
    "    # verify notAfter/notBefore, CA trusted, servername/sni/hostname\n",
    "    cert.has_expired()\n",
    "    # service_identity.pyopenssl.verify_hostname(client_ssl, hostname)\n",
    "    # issuer\n",
    "\n",
    "def get_certificate(hostname, port):\n",
    "    hostname_idna = idna.encode(hostname)\n",
    "    sock = socket()\n",
    "\n",
    "    sock.connect((hostname, port))\n",
    "    peername = sock.getpeername()\n",
    "    ctx = SSL.Context(SSL.SSLv23_METHOD) # most compatible\n",
    "    ctx.check_hostname = False\n",
    "    ctx.verify_mode = SSL.VERIFY_NONE\n",
    "\n",
    "    sock_ssl = SSL.Connection(ctx, sock)\n",
    "    sock_ssl.set_connect_state()\n",
    "    sock_ssl.set_tlsext_host_name(hostname_idna)\n",
    "    sock_ssl.do_handshake()\n",
    "    cert = sock_ssl.get_peer_certificate()\n",
    "    crypto_cert = cert.to_cryptography()\n",
    "    sock_ssl.close()\n",
    "    sock.close()\n",
    "\n",
    "    return HostInfo(cert=crypto_cert, peername=peername, hostname=hostname)\n",
    "\n",
    "def get_alt_names(cert):\n",
    "    try:\n",
    "        ext = cert.extensions.get_extension_for_class(x509.SubjectAlternativeName)\n",
    "        return ext.value.get_values_for_type(x509.DNSName)\n",
    "    except x509.ExtensionNotFound:\n",
    "        return None\n",
    "\n",
    "def get_common_name(cert):\n",
    "    try:\n",
    "        names = cert.subject.get_attributes_for_oid(NameOID.COMMON_NAME)\n",
    "        return names[0].value\n",
    "    except x509.ExtensionNotFound:\n",
    "        return None\n",
    "\n",
    "def get_issuer(cert):\n",
    "    try:\n",
    "        names = cert.issuer.get_attributes_for_oid(NameOID.COMMON_NAME)\n",
    "        return names[0].value\n",
    "    except x509.ExtensionNotFound:\n",
    "        return None\n",
    "\n",
    "\n",
    "def print_basic_info(hostinfo):\n",
    "    s = '''» {hostname} « … {peername}\n",
    "    \\tcommonName: {commonname}\n",
    "    \\tSAN: {SAN}\n",
    "    \\tissuer: {issuer}\n",
    "    \\tnotBefore: {notbefore}\n",
    "    \\tnotAfter:  {notafter}\n",
    "    '''.format(\n",
    "            hostname=hostinfo.hostname,\n",
    "            peername=hostinfo.peername,\n",
    "            commonname=get_common_name(hostinfo.cert),\n",
    "            SAN=get_alt_names(hostinfo.cert),\n",
    "            issuer=get_issuer(hostinfo.cert),\n",
    "            notbefore=hostinfo.cert.not_valid_before,\n",
    "            notafter=hostinfo.cert.not_valid_after\n",
    "    )\n",
    "    timenow = datetime.datetime.now()\n",
    "    if timenow <= hostinfo.cert.not_valid_after :\n",
    "        print(\"certfication is secured\")\n",
    "    else:\n",
    "        print(\"SSL certfication has expired\")\n",
    "\n",
    "    print(s)\n",
    "\n",
    "def check_it_out(hostname, port):\n",
    "    hostinfo = get_certificate(hostname, port)\n",
    "    print_basic_info(hostinfo)\n",
    "\n",
    "\n",
    "import concurrent.futures\n",
    "if __name__ == '__main__':\n",
    "    with concurrent.futures.ThreadPoolExecutor(max_workers=4) as e:\n",
    "        for hostinfo in e.map(lambda x: get_certificate(x[0], x[1]), HOSTS):\n",
    "            print_basic_info(hostinfo)\n"
   ]
  }
 ],
 "metadata": {
  "kernelspec": {
   "display_name": "Python 3",
   "language": "python",
   "name": "python3"
  },
  "language_info": {
   "codemirror_mode": {
    "name": "ipython",
    "version": 3
   },
   "file_extension": ".py",
   "mimetype": "text/x-python",
   "name": "python",
   "nbconvert_exporter": "python",
   "pygments_lexer": "ipython3",
   "version": "3.6.5"
  }
 },
 "nbformat": 4,
 "nbformat_minor": 2
}
