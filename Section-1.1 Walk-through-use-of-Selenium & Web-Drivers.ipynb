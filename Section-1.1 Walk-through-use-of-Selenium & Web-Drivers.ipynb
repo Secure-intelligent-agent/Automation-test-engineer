{
 "cells": [
  {
   "cell_type": "markdown",
   "metadata": {},
   "source": [
    "# What is Selenium?"
   ]
  },
  {
   "cell_type": "markdown",
   "metadata": {},
   "source": [
    "#### SELENIUM is a free (open-source) automated testing framework used to validate web applications across different browsers and platforms. You can use multiple programming languages like Java, C#, Python etc to create Selenium Test Scripts. Testing done using the Selenium tool is usually referred to as Selenium Testing.\n",
    "\n",
    "## Selenium Software is not just a single tool but a suite of software, each piece catering to different testing needs of an organization. Here is the list of tools\n",
    "\n",
    "Selenium Integrated Development Environment (IDE)\n",
    "Selenium Remote Control (RC)\n",
    "WebDriver\n",
    "Selenium Grid\n",
    "### Introduction to Selenium\n",
    "At the moment, Selenium RC and WebDriver are merged into a single framework to form Selenium 2. Selenium 1, by the way, refers to Selenium RC. "
   ]
  },
  {
   "cell_type": "markdown",
   "metadata": {},
   "source": [
    "## Steps to Get started with SELENIUM\n",
    "\n",
    "### Go To Google Chrome or {{Other Browsers}} , add Extension- Selnium IDE\n",
    "link : https://chrome.google.com/webstore/detail/selenium-ide/mooikfkahbdckldjjndioackbalphokd?hl=en\n",
    "### Install Selnium IDE\n",
    "### Primary usage : Regressive testing - Eg testing login system multiple times with different credentials.\n",
    "### Selenium IDE will Help to Record the Steps that You Perform on any website or web-app , Returns with Python  Script . ( currently we are focusing python lang here ).\n",
    "\n"
   ]
  },
  {
   "cell_type": "markdown",
   "metadata": {},
   "source": [
    "## Framework Available\n",
    "#### Robot Framework\n",
    "#### Pytest- framework\n",
    "\n",
    "\n",
    "## Framework to be Used:\n",
    "### Pytest- Framework"
   ]
  },
  {
   "cell_type": "markdown",
   "metadata": {},
   "source": []
  },
  {
   "cell_type": "markdown",
   "metadata": {},
   "source": [
    "# Web-drivers\n",
    "### WebDriver is the Interface which contains all the Selenium Method signatures (Eg findElement(),switchTo(),get() etc.) where as definition for those methods are in RemoteWedDriver Class.\n",
    "\n",
    "For Running the Script through Web-Browser ,Web-driver is required \n",
    "types:\n",
    "1. Chrome Driver\n",
    "Important : If you are using chrome Driver make sure that you are Using Latest Chrome Driver Else it Will return Error.\n",
    "2. Gecko Driver ( Firefox Browser)\n",
    "3. IE Driver  \n",
    "You can direcly Download the driver and paste it into the folder which you are running your py script \n",
    "\n",
    "## WE NEED TO IMPORT THE DRIVER IN PYTHON SCRIPT"
   ]
  }
 ],
 "metadata": {
  "kernelspec": {
   "display_name": "Python 3",
   "language": "python",
   "name": "python3"
  },
  "language_info": {
   "codemirror_mode": {
    "name": "ipython",
    "version": 3
   },
   "file_extension": ".py",
   "mimetype": "text/x-python",
   "name": "python",
   "nbconvert_exporter": "python",
   "pygments_lexer": "ipython3",
   "version": "3.8.5"
  }
 },
 "nbformat": 4,
 "nbformat_minor": 4
}
